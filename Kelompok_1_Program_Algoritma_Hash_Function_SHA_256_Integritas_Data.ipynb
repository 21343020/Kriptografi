{
 "cells": [
  {
   "cell_type": "markdown",
   "metadata": {
    "id": "yE0rzZXcj1Fz"
   },
   "source": [
    "# Kelompok 1 - Algoritma Hash Function - SHA 256\n",
    "\n",
    "Anggota :\n",
    "- Arafil Azmi\n",
    "- Adelina Suciko\n",
    "- Budi Prasetyo\n",
    "- M. Fikry\n",
    "- Maharani Safitri\n",
    "- Ella Dwipujana\n"
   ]
  },
  {
   "cell_type": "markdown",
   "metadata": {
    "id": "pwRfkeuflLUa"
   },
   "source": [
    "# Algoritma Hash Function - SHA-256\n",
    "\n",
    "Algoritma hash function adalah serangkaian langkah dan operasi matematika yang diterapkan pada suatu input (pesan) untuk menghasilkan output yang unik dan konsisten dengan panjang tetap, yang disebut sebagai nilai hash.\n",
    "\n",
    "SHA-256 (Secure Hash Algorithm 256-bit) adalah salah satu fungsi hash kriptografis yang paling umum digunakan. Fungsi hash SHA-256 menghasilkan hash dengan panjang 256 bit, setara dengan 32 byte atau 64 karakter dalam representasi heksadesimal.\n",
    "\n",
    "Algoritma ini didesain untuk menghasilkan hash yang kuat sehingga sulit untuk mendapatkan pesan yang menghasilkan hash yang sama atau mengurai hash menjadi pesan aslinya.\n",
    "\n",
    "SHA-256 adalah fungsi hash kriptografis yang banyak digunakan dalam berbagai aplikasi keamanan, termasuk protokol keamanan, penyimpanan sandi, dan integritas data.\n"
   ]
  },
  {
   "cell_type": "markdown",
   "metadata": {
    "id": "ydeggjJBmHx6"
   },
   "source": [
    "# Analisis Churn Pelanggan menggunakan Hash Function - SHA 256\n",
    "\n",
    "Dalam program hash function - SHA 256 digunakan untuk menjaga integritas data pada suatu dataset. Dataset yang digunakan adalah Churn_Modelling.\n",
    "\n",
    "**Churn_Modelling** adalah dataset yang digunakan untuk menganalisis churn (pergantian) pelanggan dalam industri perbankan. Dataset ini berisi informasi tentang atribut pelanggan yang dapat digunakan untuk memprediksi apakah seorang pelanggan akan keluar (berhenti menggunakan layanan) atau tetap menjadi nasabah.\n",
    "\n",
    "Deskripsi dari kolom-kolom dalam dataset \"churn_modelling\" sebagai berikut:\n",
    "\n",
    "- **Row Number**: Nomor baris dalam dataset.\n",
    "- **Customer Id**: Identitas unik untuk setiap pelanggan.\n",
    "- **Surname**: Nama belakang pelanggan.\n",
    "- **Credit Score**: Skor kredit pelanggan.\n",
    "- **Geography**: Lokasi geografis pelanggan.\n",
    "- **Gender**: Jenis kelamin pelanggan.\n",
    "- **Age**: Usia pelanggan.\n",
    "- **Tenure**: Jumlah tahun pelanggan telah menjadi nasabah bank.\n",
    "- **Balance**: Saldo rekening pelanggan.\n",
    "- **Number Of Products**: Jumlah produk keuangan yang dimiliki oleh pelanggan.\n",
    "- **Has Cr Card**: Indikator apakah pelanggan memiliki kartu kredit atau tidak.\n",
    "- **Is Active Member**: Indikator apakah pelanggan aktif atau tidak dalam menggunakan layanan bank.\n",
    "- **Estimated Salary**: Estimasi gaji tahunan pelanggan.\n",
    "- **Exited**: Indikator apakah pelanggan telah keluar (berhenti menggunakan layanan) atau tidak.\n"
   ]
  },
  {
   "cell_type": "markdown",
   "metadata": {
    "id": "L-O3K0d_nqkb"
   },
   "source": [
    "# Penggunaan Hash Function SHA-256 dalam Dataset Churn_Modelling\n",
    "\n",
    "Penerapan hash function SHA-256 pada dataset churn_modelling memiliki beberapa use case yang menarik dan berguna, termasuk melindungi privasi data pelanggan dan memastikan integritas dataset.\n",
    "\n",
    "## Privasi Data Pelanggan\n",
    "Dalam konteks hash function SHA-256, kita dapat mengambil kolom-kolom sensitif seperti \"Customer Id\" dan \"Surname\" dalam dataset churn_modelling dan mengubah nilai-nilai dalam kolom-kolom tersebut menjadi nilai hash yang tidak dapat dikembalikan ke bentuk aslinya. Dengan demikian, privasi identitas pelanggan terlindungi dengan cara yang unik dan aman. Hashing menjadi bentuk langkah keamanan tambahan yang dapat digunakan untuk melindungi informasi identitas pelanggan.\n",
    "\n",
    "## Integritas Data\n",
    "Dengan memanfaatkan hash function SHA-256, kita dapat menghasilkan nilai hash dari keseluruhan dataset churn_modelling. Nilai hash ini dapat disimpan secara terpisah atau diunggah ke tempat yang aman. Ketika ingin memverifikasi integritas data, kita dapat menghasilkan kembali nilai hash baru dari dataset saat ini dan membandingkannya dengan nilai hash yang disimpan sebelumnya. Kesamaan nilai hash menunjukkan bahwa data tetap utuh, sementara perbedaan nilai hash menunjukkan bahwa data telah mengalami perubahan.\n",
    "\n",
    "Dengan menggunakan hash function SHA-256 dalam penggunaan ini, kita dapat mengamankan data pelanggan dengan melindungi privasi identitas mereka dan memastikan integritas dataset. Hal ini membantu meminimalkan risiko perubahan atau pengungkapan informasi sensitif yang tidak diinginkan.\n"
   ]
  },
  {
   "cell_type": "code",
   "execution_count": 1,
   "metadata": {
    "colab": {
     "base_uri": "https://localhost:8080/",
     "height": 206
    },
    "id": "Nr_-Z3mpbHDI",
    "outputId": "a2cfbad4-26fe-493b-e31a-d0a2a1325a04"
   },
   "outputs": [
    {
     "data": {
      "text/html": [
       "<div>\n",
       "<style scoped>\n",
       "    .dataframe tbody tr th:only-of-type {\n",
       "        vertical-align: middle;\n",
       "    }\n",
       "\n",
       "    .dataframe tbody tr th {\n",
       "        vertical-align: top;\n",
       "    }\n",
       "\n",
       "    .dataframe thead th {\n",
       "        text-align: right;\n",
       "    }\n",
       "</style>\n",
       "<table border=\"1\" class=\"dataframe\">\n",
       "  <thead>\n",
       "    <tr style=\"text-align: right;\">\n",
       "      <th></th>\n",
       "      <th>RowNumber</th>\n",
       "      <th>CustomerId</th>\n",
       "      <th>Surname</th>\n",
       "      <th>CreditScore</th>\n",
       "      <th>Geography</th>\n",
       "      <th>Gender</th>\n",
       "      <th>Age</th>\n",
       "      <th>Tenure</th>\n",
       "      <th>Balance</th>\n",
       "      <th>NumOfProducts</th>\n",
       "      <th>HasCrCard</th>\n",
       "      <th>IsActiveMember</th>\n",
       "      <th>EstimatedSalary</th>\n",
       "      <th>Exited</th>\n",
       "    </tr>\n",
       "  </thead>\n",
       "  <tbody>\n",
       "    <tr>\n",
       "      <th>0</th>\n",
       "      <td>1</td>\n",
       "      <td>15634602</td>\n",
       "      <td>Hargrave</td>\n",
       "      <td>619</td>\n",
       "      <td>France</td>\n",
       "      <td>Female</td>\n",
       "      <td>42</td>\n",
       "      <td>2</td>\n",
       "      <td>0.00</td>\n",
       "      <td>1</td>\n",
       "      <td>1</td>\n",
       "      <td>1</td>\n",
       "      <td>101348.88</td>\n",
       "      <td>1</td>\n",
       "    </tr>\n",
       "    <tr>\n",
       "      <th>1</th>\n",
       "      <td>2</td>\n",
       "      <td>15647311</td>\n",
       "      <td>Hill</td>\n",
       "      <td>608</td>\n",
       "      <td>Spain</td>\n",
       "      <td>Female</td>\n",
       "      <td>41</td>\n",
       "      <td>1</td>\n",
       "      <td>83807.86</td>\n",
       "      <td>1</td>\n",
       "      <td>0</td>\n",
       "      <td>1</td>\n",
       "      <td>112542.58</td>\n",
       "      <td>0</td>\n",
       "    </tr>\n",
       "    <tr>\n",
       "      <th>2</th>\n",
       "      <td>3</td>\n",
       "      <td>15619304</td>\n",
       "      <td>Onio</td>\n",
       "      <td>502</td>\n",
       "      <td>France</td>\n",
       "      <td>Female</td>\n",
       "      <td>42</td>\n",
       "      <td>8</td>\n",
       "      <td>159660.80</td>\n",
       "      <td>3</td>\n",
       "      <td>1</td>\n",
       "      <td>0</td>\n",
       "      <td>113931.57</td>\n",
       "      <td>1</td>\n",
       "    </tr>\n",
       "    <tr>\n",
       "      <th>3</th>\n",
       "      <td>4</td>\n",
       "      <td>15701354</td>\n",
       "      <td>Boni</td>\n",
       "      <td>699</td>\n",
       "      <td>France</td>\n",
       "      <td>Female</td>\n",
       "      <td>39</td>\n",
       "      <td>1</td>\n",
       "      <td>0.00</td>\n",
       "      <td>2</td>\n",
       "      <td>0</td>\n",
       "      <td>0</td>\n",
       "      <td>93826.63</td>\n",
       "      <td>0</td>\n",
       "    </tr>\n",
       "    <tr>\n",
       "      <th>4</th>\n",
       "      <td>5</td>\n",
       "      <td>15737888</td>\n",
       "      <td>Mitchell</td>\n",
       "      <td>850</td>\n",
       "      <td>Spain</td>\n",
       "      <td>Female</td>\n",
       "      <td>43</td>\n",
       "      <td>2</td>\n",
       "      <td>125510.82</td>\n",
       "      <td>1</td>\n",
       "      <td>1</td>\n",
       "      <td>1</td>\n",
       "      <td>79084.10</td>\n",
       "      <td>0</td>\n",
       "    </tr>\n",
       "  </tbody>\n",
       "</table>\n",
       "</div>"
      ],
      "text/plain": [
       "   RowNumber  CustomerId   Surname  CreditScore Geography  Gender  Age  \\\n",
       "0          1    15634602  Hargrave          619    France  Female   42   \n",
       "1          2    15647311      Hill          608     Spain  Female   41   \n",
       "2          3    15619304      Onio          502    France  Female   42   \n",
       "3          4    15701354      Boni          699    France  Female   39   \n",
       "4          5    15737888  Mitchell          850     Spain  Female   43   \n",
       "\n",
       "   Tenure    Balance  NumOfProducts  HasCrCard  IsActiveMember  \\\n",
       "0       2       0.00              1          1               1   \n",
       "1       1   83807.86              1          0               1   \n",
       "2       8  159660.80              3          1               0   \n",
       "3       1       0.00              2          0               0   \n",
       "4       2  125510.82              1          1               1   \n",
       "\n",
       "   EstimatedSalary  Exited  \n",
       "0        101348.88       1  \n",
       "1        112542.58       0  \n",
       "2        113931.57       1  \n",
       "3         93826.63       0  \n",
       "4         79084.10       0  "
      ]
     },
     "execution_count": 1,
     "metadata": {},
     "output_type": "execute_result"
    }
   ],
   "source": [
    "import hashlib\n",
    "import pandas as pd\n",
    "\n",
    "# Membaca dataset\n",
    "dataset = pd.read_csv(\"Churn_Modelling.csv\")\n",
    "\n",
    "dataset.head()"
   ]
  },
  {
   "cell_type": "code",
   "execution_count": 2,
   "metadata": {
    "colab": {
     "base_uri": "https://localhost:8080/",
     "height": 270
    },
    "id": "PBuHNRNJo4mP",
    "outputId": "86c85f50-a2e7-4664-efad-acc1a6280c8e"
   },
   "outputs": [],
   "source": [
    "# Fungsi untuk melakukan hash SHA-256\n",
    "def hash_sha256(value):\n",
    "    hashed_value = hashlib.sha256(str(value).encode()).hexdigest()\n",
    "    return hashed_value\n",
    "\n",
    "# Kolom-kolom yang perlu di-hash\n",
    "columns_to_hash = ['CustomerId', 'Surname', 'Geography']\n",
    "\n",
    "# Buat DataFrame baru untuk menyimpan hasil hash\n",
    "hashed_df = pd.DataFrame()\n",
    "\n",
    "# Lakukan hash SHA-256 pada kolom-kolom yang perlu di-hash\n",
    "for column in columns_to_hash:\n",
    "    hashed_values = dataset[column].apply(hash_sha256)\n",
    "    hashed_df[column] = hashed_values\n",
    "\n",
    "# Tambahkan kolom yang tidak perlu di-hash ke dalam DataFrame baru\n",
    "for column in dataset.columns:\n",
    "    if column not in columns_to_hash:\n",
    "        hashed_df[column] = dataset[column]\n",
    "\n",
    "# Tampilkan DataFrame hasil hash\n",
    "hashed_df.head()\n",
    "\n",
    "# Simpan DataFrame hasil hash ke dalam file CSV baru\n",
    "hashed_df.to_csv(\"Churn_Modelling_Hashed.csv\", index=False)"
   ]
  }
 ],
 "metadata": {
  "colab": {
   "provenance": []
  },
  "kernelspec": {
   "display_name": "Python 3 (ipykernel)",
   "language": "python",
   "name": "python3"
  },
  "language_info": {
   "codemirror_mode": {
    "name": "ipython",
    "version": 3
   },
   "file_extension": ".py",
   "mimetype": "text/x-python",
   "name": "python",
   "nbconvert_exporter": "python",
   "pygments_lexer": "ipython3",
   "version": "3.9.13"
  }
 },
 "nbformat": 4,
 "nbformat_minor": 1
}
